{
 "cells": [
  {
   "cell_type": "code",
   "execution_count": null,
   "metadata": {},
   "outputs": [],
   "source": [
    "%pip install torchtext==0.6.0\n",
    "%%capture"
   ]
  },
  {
   "cell_type": "code",
   "execution_count": null,
   "metadata": {},
   "outputs": [],
   "source": [
    "import spacy\n",
    "\n",
    "spacy_en = spacy.load('en_core_web_sm') # 영어 토큰화(tokenization)\n",
    "spacy_de = spacy.load('de_core_news_sm') # 독일어 토큰화(tokenization)"
   ]
  },
  {
   "cell_type": "code",
   "execution_count": null,
   "metadata": {},
   "outputs": [],
   "source": [
    "tokenized = spacy_en.tokenizer(\"I am a graduate student.\")\n",
    "for i, token in enumerate(tokenized):\n",
    "    print(f\"index {i}: {token.text}\")"
   ]
  },
  {
   "cell_type": "code",
   "execution_count": null,
   "metadata": {},
   "outputs": [],
   "source": [
    "def tokenize_de(text):\n",
    "    return [token.text for token in spacy_de.tokenizer(text)]\n",
    "\n",
    "def tokenize_en(text):\n",
    "    return [token.text for token in spacy_en.tokenizer(text)]"
   ]
  },
  {
   "cell_type": "code",
   "execution_count": null,
   "metadata": {},
   "outputs": [],
   "source": [
    "from torchtext.data import Field, BucketIterator\n",
    "\n",
    "SRC = Field(tokenize=tokenize_de, init_token=\"<sos>\", eos_token=\"<eos>\", lower=True, batch_first=True)\n",
    "TRG = Field(tokenize=tokenize_en, init_token=\"<sos>\", eos_token=\"<eos>\", lower=True, batch_first=True)"
   ]
  },
  {
   "cell_type": "code",
   "execution_count": null,
   "metadata": {},
   "outputs": [],
   "source": [
    "from torchtext.datasets import Multi30k\n",
    "\n",
    "train_dataset, valid_dataset, test_dataset = Multi30k.splits(exts=(\".de\", \".en\"), fields=(SRC, TRG))"
   ]
  },
  {
   "cell_type": "code",
   "execution_count": null,
   "metadata": {},
   "outputs": [],
   "source": [
    "print(f\"training dataset size: {len(train_dataset.examples)}\")\n",
    "print(f\"validation dataset size: {len(valid_dataset.examples)}\")\n",
    "print(f\"testing dataset size: {len(test_dataset.examples)}\")\n",
    "\n",
    "print(vars(train_dataset.examples[30])['src'])\n",
    "print(vars(train_dataset.examples[30])['trg'])"
   ]
  },
  {
   "cell_type": "code",
   "execution_count": null,
   "metadata": {},
   "outputs": [],
   "source": [
    "SRC.build_vocab(train_dataset, min_freq=2)\n",
    "TRG.build_vocab(train_dataset, min_freq=2)\n",
    "\n",
    "print(f\"len(SRC): {len(SRC.vocab)}\")\n",
    "print(f\"len(TRG): {len(TRG.vocab)}\")\n",
    "\n",
    "print(TRG.vocab.stoi[\"abcabc\"]) # 없는 단어: 0\n",
    "print(TRG.vocab.stoi[TRG.pad_token]) # 패딩(padding): 1\n",
    "print(TRG.vocab.stoi[\"<sos>\"]) # <sos> : 2\n",
    "print(TRG.vocab.stoi[\"<eos>\"]) # <eos> : 3\n",
    "print(TRG.vocab.stoi[\"hello\"])\n",
    "print(TRG.vocab.stoi[\"world\"])"
   ]
  },
  {
   "cell_type": "code",
   "execution_count": null,
   "metadata": {},
   "outputs": [],
   "source": [
    "import torch\n",
    "\n",
    "device = torch.device('cuda' if torch.cuda.is_available() else 'cpu')\n",
    "\n",
    "BATCH_SIZE = 128\n",
    "\n",
    "# 일반적인 데이터 로더(data loader)의 iterator와 유사하게 사용 가능\n",
    "train_iterator, valid_iterator, test_iterator = BucketIterator.splits(\n",
    "    (train_dataset, valid_dataset, test_dataset),\n",
    "    batch_size=BATCH_SIZE,\n",
    "    device=device)"
   ]
  },
  {
   "cell_type": "code",
   "execution_count": null,
   "metadata": {},
   "outputs": [],
   "source": [
    "for i, batch in enumerate(train_iterator):\n",
    "    src = batch.src\n",
    "    trg = batch.trg\n",
    "\n",
    "    print(f\"first batch size: {src.shape}\")\n",
    "    \n",
    "    # 현재 배치에 있는 하나의 문장에 포함된 정보 출력\n",
    "    for i in range(src.shape[1]):\n",
    "        print(f\"index {i}: {src[0][i].item()}\") # 여기에서는 [Seq_num, Seq_len]\n",
    "\n",
    "    # 첫 번째 배치만 확인\n",
    "    break"
   ]
  },
  {
   "attachments": {},
   "cell_type": "markdown",
   "metadata": {},
   "source": [
    "Embedding: [num_words, d_model]\n",
    "\n",
    "Q, K: [num_words, d_k]\n",
    "\n",
    "V: [num_words, d_v]\n",
    "\n",
    "Attention(Q, K, V): [num_words, d_v]\n",
    "\n",
    "Concat(head_1, ..., head_h): [num_words, h * d_v]\n",
    "\n",
    "MultiHeadAttention(Q, K, V): [num_words, d_model]"
   ]
  },
  {
   "cell_type": "code",
   "execution_count": 75,
   "metadata": {},
   "outputs": [],
   "source": [
    "import torch.nn as nn\n",
    "\n",
    "class Multi_Head_Attention_Layer(nn.Module):\n",
    "    def __init__(self, d_model, d_k, d_v, n_heads, dropout_ratio, device):\n",
    "        super().__init__()\n",
    "        \n",
    "        assert d_model % n_heads == 0 and d_model // n_heads == d_v\n",
    "        self.d_model = d_model # 512\n",
    "        self.d_k = d_k # 64\n",
    "        self.d_v = d_v # 64\n",
    "        self.n_heads = n_heads # 8\n",
    "        \n",
    "        self.fc_Q = nn.Linear(d_model, d_k * n_heads) # W_Q: [d_model, d_k * n_heads]\n",
    "        self.fc_K = nn.Linear(d_model, d_k * n_heads) # W_K: [d_model, d_k * n_heads]\n",
    "        self.fc_V = nn.Linear(d_model, d_v * n_heads) # W_Q: [d_model, d_v]\n",
    "        \n",
    "        self.fc_O = nn.Linear(d_model, d_model) # W_O: [d_model, d_model]\n",
    "        \n",
    "        self.dropout = nn.Dropout(dropout_ratio)\n",
    "        \n",
    "        self.scale = torch.sqrt(torch.FloatTensor([self.d_k])).to(device)\n",
    "    \n",
    "    def forward(self, query, key, value, mask = None):\n",
    "        batch_size = query.shape[0] # query: [batch_size, num_words, d_model]\n",
    "        Q = self.fc_Q(query) # Q: [batch_size, num_words, d_k * n_heads]\n",
    "        K = self.fc_K(key) # K: [batch_size, num_words, d_k * n_heads]\n",
    "        V = self.fc_V(value) # V: [batch_size, num_words, d_v * n_heads]\n",
    "        \n",
    "        Q = Q.view(batch_size, -1, self.n_heads, self.d_k).permute(0, 2, 1, 3) # Q: [batch_size, n_heads, num_words, d_k]\n",
    "        K = K.view(batch_size, -1, self.n_heads, self.d_k).permute(0, 2, 1, 3) # K: [batch_size, n_heads, num_words, d_k]\n",
    "        V = V.view(batch_size, -1, self.n_heads, self.d_v).permute(0, 2, 1, 3) # V: [batch_size, n_heads, num_words, d_v]\n",
    "        \n",
    "        energy = torch.matmul(Q, K.permute(0, 1, 3, 2)) / self.scale # similarity between Q and K\n",
    "        # energy: [batch_size, n_heads, num_words, num_words]\n",
    "        print(\"energy size: \", energy.shape)\n",
    "        \n",
    "        if mask:\n",
    "            energy = energy.masked_fill(mask == 0, -1e10)\n",
    "        \n",
    "        attention = torch.softmax(energy, dim = -1) # [batch_size, n_heads, num_words, num_words]\n",
    "        \n",
    "        x = torch.matmul(self.dropout(attention), V) # [batch_size, n_heads, num_words, d_v]\n",
    "        x = x.permute(0, 2, 1, 3).contiguous()       # [batch_size, num_words, n_heads, d_v]\n",
    "        x = x.view(batch_size, -1, self.d_model)     # [batch_size, num_words, d_model]\n",
    "        x = self.fc_O(x)                             # [batch_size, num_words, d_model]\n",
    "\n",
    "        return x, attention"
   ]
  }
 ],
 "metadata": {
  "kernelspec": {
   "display_name": "DL",
   "language": "python",
   "name": "python3"
  },
  "language_info": {
   "codemirror_mode": {
    "name": "ipython",
    "version": 3
   },
   "file_extension": ".py",
   "mimetype": "text/x-python",
   "name": "python",
   "nbconvert_exporter": "python",
   "pygments_lexer": "ipython3",
   "version": "3.10.8"
  },
  "orig_nbformat": 4,
  "vscode": {
   "interpreter": {
    "hash": "a67f6b9fc210e2824a8d8d0c156573d840e17e2def7b9bfd4dbd1c59a9d0f3ee"
   }
  }
 },
 "nbformat": 4,
 "nbformat_minor": 2
}
